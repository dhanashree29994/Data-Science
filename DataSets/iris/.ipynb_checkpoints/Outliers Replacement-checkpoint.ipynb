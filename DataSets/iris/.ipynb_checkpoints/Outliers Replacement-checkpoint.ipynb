{
 "cells": [
  {
   "cell_type": "code",
   "execution_count": 1,
   "metadata": {},
   "outputs": [
    {
     "ename": "SyntaxError",
     "evalue": "invalid syntax (<ipython-input-1-3e3bbc260567>, line 8)",
     "output_type": "error",
     "traceback": [
      "\u001b[1;36m  File \u001b[1;32m\"<ipython-input-1-3e3bbc260567>\"\u001b[1;36m, line \u001b[1;32m8\u001b[0m\n\u001b[1;33m    global iris = iris_original.copy()\u001b[0m\n\u001b[1;37m                ^\u001b[0m\n\u001b[1;31mSyntaxError\u001b[0m\u001b[1;31m:\u001b[0m invalid syntax\n"
     ]
    }
   ],
   "source": [
    "import pandas as pd\n",
    "import warnings\n",
    "warnings.filterwarnings('ignore')\n",
    "import seaborn as sns\n",
    "import matplotlib.pyplot as plt\n",
    "sns.set(style='white', color_codes=True)\n",
    "iris_original = pd.read_csv('Iris.csv')\n",
    "global iris \n",
    "iris = iris.drop('Id', axis=1)\n",
    "import numpy as np"
   ]
  },
  {
   "cell_type": "code",
   "execution_count": null,
   "metadata": {},
   "outputs": [],
   "source": [
    "iris_class =  [\"Iris-setosa\", \"Iris-versicolor\", \"Iris-virginica\"]\n",
    "iris_class[0]"
   ]
  },
  {
   "cell_type": "code",
   "execution_count": null,
   "metadata": {},
   "outputs": [],
   "source": [
    "\n",
    "\n",
    "\n",
    "for i in range(0,4) :\n",
    "    for j in range(0,3) : \n",
    "        print(\"Boxplot for \" + iris.columns.values[i] + \" and \" + iris_class[j])\n",
    "        data = iris[iris.columns.values[i]][iris.Species == iris_class[j]]\n",
    "        print(\"Median : \", np.median(iris[iris.columns.values[i]][iris.Species == iris_class[j]]))\n",
    "        boxfox = plt.boxplot(iris[iris.columns.values[i]][iris.Species == iris_class[j]], showfliers=True)\n",
    "        print('Whiskers: ', [item.get_ydata()[1] for item in boxfox['whiskers']])\n",
    "        x = [item.get_ydata() for item in boxfox['fliers']]\n",
    "        print('Outliers: ', x[0])\n",
    "        #print(\"-----\" , len(x), \"------\", len(x[0]))\n",
    "        #print(x[0])\n",
    "        if len(x[0] > 0) :\n",
    "            print(x[0])\n",
    "            for k in range(0, len(x[0])) : \n",
    "                #print(\"ol for \" , data)\n",
    "                print(\"outliers \",  x[0][k])\n",
    "                median= np.median(iris[iris.columns.values[i]][iris.Species == iris_class[j]])\n",
    "                    \n",
    "                iris[iris.columns.values[i]][iris.Species == iris_class[j]].replace(x[0][k],median ,inplace=True)\n",
    "print(iris)\n",
    "               \n",
    "           #outlier = x[0]\n",
    "           #print(outlier)\n",
    "           \n",
    "      #plt.pause(0.05)"
   ]
  },
  {
   "cell_type": "code",
   "execution_count": null,
   "metadata": {},
   "outputs": [],
   "source": []
  },
  {
   "cell_type": "code",
   "execution_count": null,
   "metadata": {},
   "outputs": [],
   "source": []
  }
 ],
 "metadata": {
  "kernelspec": {
   "display_name": "Python 3",
   "language": "python",
   "name": "python3"
  },
  "language_info": {
   "codemirror_mode": {
    "name": "ipython",
    "version": 3
   },
   "file_extension": ".py",
   "mimetype": "text/x-python",
   "name": "python",
   "nbconvert_exporter": "python",
   "pygments_lexer": "ipython3",
   "version": "3.6.5"
  }
 },
 "nbformat": 4,
 "nbformat_minor": 2
}
